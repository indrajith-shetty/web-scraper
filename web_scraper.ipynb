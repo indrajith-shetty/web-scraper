{
 "cells": [
  {
   "cell_type": "code",
   "execution_count": 1,
   "metadata": {},
   "outputs": [],
   "source": [
    "# imports\n",
    "from urllib.request import urlopen\n",
    "from bs4 import BeautifulSoup as soup  # parses the html page"
   ]
  },
  {
   "cell_type": "code",
   "execution_count": 2,
   "metadata": {},
   "outputs": [],
   "source": [
    "# setting the url\n",
    "# newegg serach result for \"video cards\"\n",
    "URL = \"\"\"https://www.newegg.com/Product/ProductList.aspx?Submit=ENE&DEPA=0&Order=BESTMATCH&Description=vidoe+cards&ignorear=0&N=-1&isNodeId=1\"\"\""
   ]
  },
  {
   "cell_type": "code",
   "execution_count": 3,
   "metadata": {},
   "outputs": [],
   "source": [
    "# loading the webpage  text into a local variable\n",
    "u_client = urlopen(URL)\n",
    "page_html = u_client.read()\n",
    "u_client.close()\n",
    "page_soup = soup(page_html, \"html.parser\")"
   ]
  },
  {
   "cell_type": "code",
   "execution_count": 4,
   "metadata": {},
   "outputs": [],
   "source": [
    "# get all the div containers  that contain each item(graphic cards) on the website\n",
    "# to get the proper attribute, you need to look at the html output\n",
    "container_divs = page_soup.find_all(\"div\", {\"class\": \"item-container\"})"
   ]
  },
  {
   "cell_type": "code",
   "execution_count": 5,
   "metadata": {},
   "outputs": [],
   "source": [
    "# open a csv file to store the scraped info\n",
    "file = open(\"products.csv\", \"w\")\n",
    "headers = \"brand,product_name,shipping\\n\"\n",
    "file.write(headers)\n",
    "\n",
    "# loop through all the items (containers)\n",
    "for container in container_divs:\n",
    "    brand = container.div.div.a.img[\"title\"]\n",
    "    title_container = container.find_all(\"a\", {\"class\": \"item-title\"})\n",
    "    product_name = title_container[0].text\n",
    "    shipping_container = container.findAll(\"li\", {\"class\": \"price-ship\"})\n",
    "    shipping = shipping_container[0].text.strip()\n",
    "    file.write(brand + \",\" + product_name.replace(\",\", \"|\") +\n",
    "               \",\" + shipping + \"\\n\")\n",
    "\n",
    "\n",
    "# close the file\n",
    "file.close()"
   ]
  },
  {
   "cell_type": "code",
   "execution_count": null,
   "metadata": {},
   "outputs": [],
   "source": []
  }
 ],
 "metadata": {
  "kernelspec": {
   "display_name": "Python 3",
   "language": "python",
   "name": "python3"
  },
  "language_info": {
   "codemirror_mode": {
    "name": "ipython",
    "version": 3
   },
   "file_extension": ".py",
   "mimetype": "text/x-python",
   "name": "python",
   "nbconvert_exporter": "python",
   "pygments_lexer": "ipython3",
   "version": "3.6.4"
  }
 },
 "nbformat": 4,
 "nbformat_minor": 2
}
