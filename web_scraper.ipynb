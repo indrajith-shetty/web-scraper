{
 "cells": [
  {
   "cell_type": "code",
   "execution_count": 1,
   "metadata": {},
   "outputs": [],
   "source": [
    "#imports\n",
    "from urllib.request import urlopen\n",
    "from bs4 import BeautifulSoup as soup"
   ]
  },
  {
   "cell_type": "code",
   "execution_count": 2,
   "metadata": {},
   "outputs": [],
   "source": [
    "#setting the url\n",
    "#newegg serach result for \"video cards\"\n",
    "url = \"https://www.newegg.com/Product/ProductList.aspx?Submit=ENE&DEPA=0&Order=BESTMATCH&Description=vidoe+cards&ignorear=0&N=-1&isNodeId=1\"\n"
   ]
  },
  {
   "cell_type": "code",
   "execution_count": 4,
   "metadata": {},
   "outputs": [],
   "source": [
    "#loading the webpage into a local variable\n",
    "u_client = urlopen(url)\n",
    "page_html = u_client.read()\n",
    "u_client.close()\n",
    "page_soup = soup(page_html, \"html.parser\")"
   ]
  },
  {
   "cell_type": "code",
   "execution_count": 5,
   "metadata": {},
   "outputs": [],
   "source": [
    "#get all the div containers  that contain each item(graphic cards) on the website\n",
    "#to get the proper attribute, you need to look at the html output \n",
    "container_divs= page_soup.find_all(\"div\",{\"class\":\"item-container\"})"
   ]
  },
  {
   "cell_type": "code",
   "execution_count": 12,
   "metadata": {},
   "outputs": [
    {
     "name": "stdout",
     "output_type": "stream",
     "text": [
      "GIGABYTE GeForce GTX 1080 DirectX 12 GV-N1080WF3OC-8GD 8GB 256-Bit GDDR5X PCI Express 3.0 x16 SLI Support ATX Video Card\n",
      "MSI GeForce GTX 1050 Ti DirectX 12 GTX 1050 Ti GAMING X 4G 4GB 128-Bit GDDR5 PCI Express 3.0 x16 HDCP Ready ATX Video Card\n",
      "MSI GeForce GTX 1080 Ti DirectX 12 GeForce GTX 1080 Ti GAMING X 11G 11GB 352-Bit GDDR5X PCI Express 3.0 x16 HDCP Ready SLI Support Video Card\n",
      "ASUS GeForce GTX 1050 Ti DirectX 12 DUAL-GTX1050TI-O4G 4GB 128-Bit GDDR5 PCI Express 3.0 HDCP Ready Video Card\n",
      "ASUS GeForce GTX 1080 Ti AC-ORIGINS-ROG-STRIX-GTX1080TI 11GB 352-Bit GDDR5X PCI Express 3.0 HDCP Ready SLI Support Assassin's Creed Origins Edition Video Card\n",
      "GIGABYTE GeForce GTX 1080 Ti DirectX 12 GV-N108TGAMINGOC BLACK-11GD 11GB 352-Bit GDDR5X PCI Express 3.0 x16 ATX Video Card\n",
      "GIGABYTE AORUS GeForce GTX 1080 Ti DirectX 12 GV-N108TAORUS X-11GD 11GB 352-Bit GDDR5X PCI Express 3.0 x16 ATX Xtreme Edition Video Card\n",
      "MSI GeForce GTX 1080 Ti DirectX 12 GTX 1080 Ti DUKE 11G OC 11GB 352-Bit GDDR5X PCI Express 3.0 x16 HDCP Ready SLI Support Video Card\n",
      "GIGABYTE AORUS GeForce GTX 1060 6G REV 2.0, GV-N1060AORUS-6GD R2\n",
      "MSI GeForce GTX 1070 Ti DirectX 12 GTX 1070 Ti GAMING 8G 8GB 256-Bit GDDR5 PCI Express 3.0 x16 HDCP Ready SLI Support ATX Video Card\n",
      "EVGA GeForce GTX 1080 Ti SC2 HYBRID GAMING, 11G-P4-6598-KR, 11GB GDDR5X, HYBRID & LED, iCX Technology - 9 Thermal Sensors\n",
      "MSI Radeon RX 570 DirectX 12 RX 570 GAMING X 8G 8GB 256-Bit GDDR5 PCI Express x16 HDCP Ready CrossFireX Support ATX Video Card\n",
      "EVGA GeForce GTX 1080 Ti FTW3 DT DirectX 12 11G-P4-6694-KR 11GB 352-Bit GDDR5X PCI Express 3.0 HDCP Ready SLI Support Video Card\n",
      "MSI GeForce GTX 1080 DirectX 12 GTX 1080 AERO 8G OC 8GB 256-Bit GDDR5X PCI Express 3.0 x16 HDCP Ready SLI Support ATX Video Card\n",
      "EVGA GeForce GTX 1060 GAMING, ACX 2.0 (Single Fan), 03G-P4-6160-KR, 3GB GDDR5, DX12 OSD Support (PXOC), Only 6.8 Inches\n",
      "ZOTAC GeForce GTX 1080 Ti AMP Extreme Core 11GB GDDR5X 352-bit Gaming Graphics Card VR Ready 16+2 Power Phase Freeze Fan Stop IceStorm Cooling Spectra Lighting ZT-P10810F-10P\n",
      "GIGABYTE AORUS GeForce GTX 1070 GV-N1070IXEB-8GD 8GB GDDR5 Gaming Box\n",
      "PowerColor RED DRAGON Radeon RX 570 DirectX 12 AXRX 570 4GBD5-3DHD/OC 4GB 256-Bit GDDR5 PCI Express 3.0 CrossFireX Support ATX Video Card\n",
      "PNY GeForce GTX 1060 DirectX 12 VCGGTX10606XGPB-OC2 6GB 192-Bit GDDR5 PCI Express 3.0 x16 Video Card\n",
      "ZOTAC GeForce GTX 1060 Mini, ZT-P10600A-10L, 6GB GDDR5 Super Compact\n",
      "EVGA GeForce GTX 1080 Ti FTW3 GAMING, 11G-P4-6696-KR, 11GB GDDR5X, iCX Technology - 9 Thermal Sensors & RGB LED G/P/M\n",
      "MSI Radeon RX 570 DirectX 12 RX 570 ARMOR 4G OC 4GB 256-Bit GDDR5 PCI Express 3.0 x16 HDCP Ready CrossFireX Support ATX Video Card\n",
      "GIGABYTE GeForce GTX 1060 DirectX 12 GV-N1060WF2OC-6GD 6GB 192-Bit GDDR5 PCI Express 3.0 x16 ATX Video Card\n",
      "GIGABYTE GeForce GTX 1060 DirectX 12 GV-N1060D5-6GD REV2 6GB 192-Bit GDDR5 PCI Express 3.0 x16 ATX Video Card\n",
      "EVGA GeForce GTX 1080 Ti FTW3 HYBRID GAMING, 11G-P4-6698-KR, 11GB GDDR5X, HYBRID & RGB LED, iCX Technology - 9 Thermal Sensors\n",
      "GIGABYTE GeForce GTX 1070 DirectX 12 GV-N1070G1 GAMING-8GD R2 256-Bit GDDR5 PCI Express 3.0 x16 SLI Support ATX Video Card\n",
      "MSI GeForce GTX 1070 Ti DirectX 12 GTX 1070 Ti DUKE 8G 8GB 256-Bit GDDR5 PCI Express 3.0 x16 HDCP Ready SLI Support Video Card\n",
      "EVGA GeForce GTX 1050 GAMING, 02G-P4-6150-KR, 2GB GDDR5, DX12 OSD Support (PXOC)\n",
      "GIGABYTE Radeon RX 560 DirectX 12 GV-RX560GAMING OC-4GD REV2.0 4GB 128-Bit GDDR5 ATX Video Card\n",
      "MSI GeForce GTX 1070 Ti DirectX 12 GTX 1070 Ti Titanium 8G 8GB 256-Bit GDDR5 PCI Express 3.0 x16 HDCP Ready SLI Support ATX Video Card\n",
      "GIGABYTE GeForce GTX 1080 AORUS 8GB DirectX 12 GV-N1080AORUS-8GD R2 256-Bit GDDR5X PCI Express 3.0 x16 Video Card, GV-N1080AORUS-8GD R2\n",
      "EVGA GeForce GTX 1060 SC GAMING, ACX 2.0 (Single Fan), 03G-P4-6162-KR, 3GB GDDR5, DX12 OSD Support (PXOC)\n",
      "EVGA GeForce GTX 1050 Ti SC GAMING, 04G-P4-6253-KR, 4GB GDDR5, DX12 OSD Support (PXOC)\n",
      "ASUS GeForce GTX 1060 DUAL-GTX1060-O6G 6GB 192-Bit GDDR5 PCI Express 3.0 HDCP Ready Video Card\n",
      "ASUS ROG GeForce GTX 1080 STRIX-GTX1080-A8G-GAMING 8GB 256-Bit GDDR5X PCI Express 3.0 HDCP Ready Video Card\n",
      "EVGA GeForce GTX 1060 GAMING DirectX 12 06G-P4-6262-KR 6GB 192-Bit GDDR5 PCI Express 3.0 Video Card\n"
     ]
    }
   ],
   "source": [
    "#loop through all the items (containers)\n",
    "for container in container_divs:\n",
    "    brand = container.div.div.a.img[\"title\"]\n",
    "    title_container= container.findAll(\"a\",{\"class\":\"item-title\"})\n",
    "    product_name= title_container[0].text\n",
    "    shipping_container=container.findall(\"li\",{\"class\":\"price-ship\"})\n",
    "    shipping=shipping_container[0].text.strip() "
   ]
  },
  {
   "cell_type": "code",
   "execution_count": null,
   "metadata": {},
   "outputs": [],
   "source": []
  }
 ],
 "metadata": {
  "kernelspec": {
   "display_name": "Python 3",
   "language": "python",
   "name": "python3"
  },
  "language_info": {
   "codemirror_mode": {
    "name": "ipython",
    "version": 3
   },
   "file_extension": ".py",
   "mimetype": "text/x-python",
   "name": "python",
   "nbconvert_exporter": "python",
   "pygments_lexer": "ipython3",
   "version": "3.6.4"
  }
 },
 "nbformat": 4,
 "nbformat_minor": 2
}
